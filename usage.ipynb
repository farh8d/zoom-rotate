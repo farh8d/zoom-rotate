{
 "cells": [
  {
   "cell_type": "code",
   "execution_count": 12,
   "metadata": {},
   "outputs": [],
   "source": [
    "\n",
    "import os\n",
    "import cv2\n",
    "\n",
    "def extract_frames(video_path, output_directory):\n",
    "    # Open the video file\n",
    "    video = cv2.VideoCapture(video_path)\n",
    "    \n",
    "    # Create the output directory if it doesn't exist\n",
    "    os.makedirs(output_directory, exist_ok=True)\n",
    "    \n",
    "    # Initialize frame count\n",
    "    frame_count = 0\n",
    "    \n",
    "    while True:\n",
    "        # Read the next frame from the video\n",
    "        ret, frame = video.read()\n",
    "        \n",
    "        # If the frame was not successfully read, then we have reached the end of the video\n",
    "        if not ret:\n",
    "            break\n",
    "        \n",
    "        # Save the frame as an image file\n",
    "        output_path = os.path.join(output_directory, f\"frame_{frame_count}.jpg\")\n",
    "        cv2.imwrite(output_path, frame)\n",
    "        \n",
    "        # Increment the frame count\n",
    "        frame_count += 1\n",
    "    \n",
    "    # Release the video file\n",
    "    video.release()\n",
    "\n",
    "video_path = \"runs/segment/predict/frames.avi\"\n",
    "output_directory = \"_______INS/benz/frames\"\n",
    "extract_frames(video_path, output_directory)\n",
    "\n",
    "\n",
    "\n"
   ]
  },
  {
   "cell_type": "code",
   "execution_count": 11,
   "metadata": {},
   "outputs": [
    {
     "name": "stderr",
     "output_type": "stream",
     "text": [
      "\n",
      "    WARNING  stream/video/webcam/dir predict source will accumulate results in RAM unless `stream=True` is passed,\n",
      "    causing potential out-of-memory errors for large sources or long-running streams/videos.\n",
      "\n",
      "    Usage:\n",
      "        results = model(source=..., stream=True)  # generator of Results objects\n",
      "        for r in results:\n",
      "            boxes = r.boxes  # Boxes object for bbox outputs\n",
      "            masks = r.masks  # Masks object for segment masks outputs\n",
      "            probs = r.probs  # Class probabilities for classification outputs\n",
      "\n",
      "Results saved to \u001b[1mruns\\segment\\predict\u001b[0m\n"
     ]
    }
   ],
   "source": [
    "from ultralytics import YOLO\n",
    "\n",
    "\n",
    "model_yolo =  YOLO(\"model/yolov8m-seg.pt\")\n",
    "\n",
    "\n",
    "results = model_yolo.predict(\"_______INS/benz/frames.mp4\" , verbose=False  , conf=.8 , save=True)\n",
    "# results = results[0].cpu().numpy().boxes.data"
   ]
  },
  {
   "cell_type": "code",
   "execution_count": null,
   "metadata": {},
   "outputs": [],
   "source": []
  },
  {
   "cell_type": "code",
   "execution_count": null,
   "metadata": {},
   "outputs": [],
   "source": []
  },
  {
   "cell_type": "code",
   "execution_count": 2,
   "metadata": {},
   "outputs": [],
   "source": [
    "from torchvision import transforms\n",
    "import onnxruntime\n",
    "import numpy as np \n",
    "from PIL import Image"
   ]
  },
  {
   "cell_type": "code",
   "execution_count": 3,
   "metadata": {},
   "outputs": [],
   "source": [
    "sz = 420\n",
    "model = onnxruntime.InferenceSession(\"model/angle_mobileNet_20.onnx\")\n",
    "transforms =  transforms.Compose([\n",
    "        transforms.Resize((sz , sz)),\n",
    "        transforms.ToTensor(),\n",
    "        transforms.Normalize([0.485, 0.456, 0.406],[0.229, 0.224, 0.225])\n",
    "    ])"
   ]
  },
  {
   "cell_type": "code",
   "execution_count": 5,
   "metadata": {},
   "outputs": [
    {
     "data": {
      "text/plain": [
       "-0.4932291"
      ]
     },
     "execution_count": 5,
     "metadata": {},
     "output_type": "execute_result"
    }
   ],
   "source": [
    "img = Image.open(\"1.jpg\").convert('RGB')\n",
    "img = transforms(img)\n",
    "img = np.array(img)\n",
    "\n",
    "img = np.expand_dims(img, 0).astype(np.float32)\n",
    "    \n",
    "ort_outs = model.run(None, {\"input\":img})\n",
    "\n",
    "ort_outs[0][0][0]"
   ]
  },
  {
   "cell_type": "markdown",
   "metadata": {},
   "source": [
    "## test class"
   ]
  },
  {
   "cell_type": "code",
   "execution_count": 1,
   "metadata": {},
   "outputs": [
    {
     "name": "stdout",
     "output_type": "stream",
     "text": [
      "1\n",
      "2\n",
      "3\n",
      "4\n",
      "5\n",
      "6\n",
      "7\n",
      "8\n",
      "9\n",
      "10\n",
      "11\n",
      "12\n",
      "13\n",
      "14\n",
      "15\n",
      "16\n",
      "17\n",
      "18\n",
      "19\n",
      "20\n",
      "21\n",
      "22\n",
      "23\n",
      "24\n",
      "25\n",
      "26\n",
      "27\n",
      "28\n",
      "29\n",
      "30\n",
      "31\n",
      "32\n",
      "33\n",
      "34\n",
      "35\n",
      "36\n",
      "37\n",
      "38\n",
      "39\n",
      "40\n",
      "41\n",
      "42\n",
      "43\n",
      "44\n",
      "45\n",
      "46\n",
      "47\n",
      "48\n",
      "49\n",
      "50\n"
     ]
    }
   ],
   "source": [
    "import glob\n",
    "from natsort import natsorted\n",
    "from deployment.Stabilizer import Stabilizer\n",
    "\n",
    "stab = Stabilizer(\"model/yolov8l_9_2023.pt\" , \"model/angle_mobileNet_20.onnx\")\n",
    "imgs = glob.glob(\"_______INS/navid2/*\")\n",
    "\n",
    "c = 0\n",
    "for im in natsorted(imgs):\n",
    "    c+=1\n",
    "    try:\n",
    "        stab.run(im ,\"_______OUTS/disjoint_version/navid2/1/\"+str( c)+\".json\" , height_fraction=0.6)\n",
    "    except Exception as e :\n",
    "        print(\">>>>> \",e)\n",
    "\n",
    "    print(c)"
   ]
  },
  {
   "cell_type": "code",
   "execution_count": 2,
   "metadata": {},
   "outputs": [
    {
     "name": "stdout",
     "output_type": "stream",
     "text": [
      "1\n",
      "2\n",
      "3\n",
      "4\n",
      "5\n",
      "6\n",
      "7\n",
      "8\n",
      "9\n",
      "10\n",
      "11\n",
      "12\n",
      "13\n",
      "14\n",
      "15\n",
      "16\n",
      "17\n",
      "18\n",
      "19\n",
      "20\n",
      "21\n",
      "22\n",
      "23\n",
      "24\n",
      "25\n",
      "26\n",
      "27\n",
      "28\n",
      "29\n",
      "30\n",
      "31\n",
      "32\n",
      "33\n",
      "34\n",
      "35\n",
      "36\n",
      "37\n",
      "38\n",
      "39\n",
      "40\n",
      "41\n",
      "42\n",
      "43\n",
      "44\n",
      "45\n",
      "46\n",
      "47\n",
      "48\n",
      "49\n",
      "50\n"
     ]
    }
   ],
   "source": [
    "import glob\n",
    "from natsort import natsorted\n",
    "from deployment.Stabilizer2 import Stabilizer2\n",
    "import cv2\n",
    "\n",
    "stab2 = Stabilizer2()\n",
    "imgs = glob.glob(\"_______INS/navid2/*\")\n",
    "\n",
    "c = 0\n",
    "for im in natsorted(imgs):\n",
    "    c+=1\n",
    "    # if c == 12:\n",
    "    #     continue\n",
    "    try:\n",
    "        stab2.run(im ,\"_______OUTS/disjoint_version/navid2/1/\"+str( c)+\".json\" , \"_______OUTS/disjoint_version/navid2/2/\"+str( c)+\".png\")    # (self , img_address , json_address ,  output_address )\n",
    "    except Exception as e :\n",
    "        print(\">>>>> \",e)\n",
    "\n",
    "    print(c)"
   ]
  },
  {
   "attachments": {},
   "cell_type": "markdown",
   "metadata": {},
   "source": [
    "## one image "
   ]
  },
  {
   "cell_type": "code",
   "execution_count": 3,
   "metadata": {},
   "outputs": [
    {
     "data": {
      "text/plain": [
       "True"
      ]
     },
     "execution_count": 3,
     "metadata": {},
     "output_type": "execute_result"
    }
   ],
   "source": [
    "\n",
    "from deployment.Stabilizer import Stabilizer\n",
    "\n",
    "stab = Stabilizer(\"model/yolov8l_9_2023.pt\" , \"model/angle_mobileNet_20.onnx\")\n",
    "\n",
    "stab.run(\"lpr2.png\" ,\"XX.json\")\n"
   ]
  },
  {
   "cell_type": "code",
   "execution_count": 9,
   "metadata": {},
   "outputs": [
    {
     "data": {
      "text/plain": [
       "1944.0"
      ]
     },
     "execution_count": 9,
     "metadata": {},
     "output_type": "execute_result"
    }
   ],
   "source": [
    "2160 * .9"
   ]
  },
  {
   "cell_type": "code",
   "execution_count": 4,
   "metadata": {},
   "outputs": [
    {
     "data": {
      "text/plain": [
       "True"
      ]
     },
     "execution_count": 4,
     "metadata": {},
     "output_type": "execute_result"
    }
   ],
   "source": [
    "import glob\n",
    "from natsort import natsorted\n",
    "from deployment.Stabilizer2 import Stabilizer2\n",
    "import cv2\n",
    "\n",
    "stab2 = Stabilizer2()\n",
    "\n",
    "\n",
    "stab2.run(\"lpr2.png\" ,\"XX.json\" , \"QQ.png\")    # (self , img_address , json_address ,  output_address )\n",
    "  "
   ]
  },
  {
   "attachments": {},
   "cell_type": "markdown",
   "metadata": {},
   "source": [
    "## to video"
   ]
  },
  {
   "cell_type": "code",
   "execution_count": 1,
   "metadata": {},
   "outputs": [],
   "source": [
    "from natsort import natsorted\n",
    "\n",
    "\n",
    "# write python code to make video from directory of images\n",
    "import cv2\n",
    "import os\n",
    "\n",
    "def make_video_from_images(image_directory = \"_______OUTS/disjoint_version/navid/2\", output_video_path=\"_______OUTS/disjoint_version/navid/2/navid.mp4\", fps=8):\n",
    "    image_files = natsorted(os.listdir(image_directory))\n",
    "    frame = cv2.imread(os.path.join(image_directory, image_files[0]))\n",
    "    height, width, _ = frame.shape\n",
    "    fourcc = cv2.VideoWriter_fourcc(*\"mp4v\")\n",
    "    video_writer = cv2.VideoWriter(output_video_path, fourcc, fps, (width, height))\n",
    "\n",
    "    for image_file in image_files:\n",
    "        image_path = os.path.join(image_directory, image_file)\n",
    "        frame = cv2.imread(image_path)\n",
    "        video_writer.write(frame)\n",
    "\n",
    "    video_writer.release()\n",
    "\n",
    "# test frameSelection\n",
    "\n",
    "\n",
    "make_video_from_images()"
   ]
  },
  {
   "attachments": {},
   "cell_type": "markdown",
   "metadata": {},
   "source": [
    "# Social"
   ]
  },
  {
   "cell_type": "code",
   "execution_count": 2,
   "metadata": {},
   "outputs": [
    {
     "data": {
      "text/plain": [
       "True"
      ]
     },
     "execution_count": 2,
     "metadata": {},
     "output_type": "execute_result"
    }
   ],
   "source": [
    "import cv2\n",
    "img = cv2.imread(\"_SOCIAL/inp/11.jpg\")\n",
    "\n",
    "aa = stab.centerizer(img)\n",
    "# aa = stab.zoomIN_zoomOut(img , 0.27)\n",
    "cv2.imwrite(\"_SOCIAL/inp/111.jpg\" , aa)"
   ]
  },
  {
   "attachments": {},
   "cell_type": "markdown",
   "metadata": {},
   "source": [
    "## test-rotate:"
   ]
  },
  {
   "cell_type": "code",
   "execution_count": 2,
   "metadata": {},
   "outputs": [],
   "source": [
    "import cv2\n",
    "\n",
    "def rotate_image( img, angle = 0):\n",
    "    # get cv2 image\n",
    "    # this function get an image and angle then rotate image by this angle\n",
    "    height, width = img.shape[:2]\n",
    "    rotation_matrix = cv2.getRotationMatrix2D((width/2, height/2), angle, 1)\n",
    "    rotated_image = cv2.warpAffine(img, rotation_matrix, (width, height))\n",
    "    return rotated_image"
   ]
  },
  {
   "cell_type": "code",
   "execution_count": 6,
   "metadata": {},
   "outputs": [
    {
     "data": {
      "text/plain": [
       "True"
      ]
     },
     "execution_count": 6,
     "metadata": {},
     "output_type": "execute_result"
    }
   ],
   "source": [
    "im1 = cv2.imread(\"blender_generated/Ford Mustang 2023 Black-0001.png\")\n",
    "im1 = rotate_image(im1 , 10)\n",
    "cv2.imwrite(\"kkk.jpg\" , im1)"
   ]
  }
 ],
 "metadata": {
  "kernelspec": {
   "display_name": "gpu",
   "language": "python",
   "name": "python3"
  },
  "language_info": {
   "codemirror_mode": {
    "name": "ipython",
    "version": 3
   },
   "file_extension": ".py",
   "mimetype": "text/x-python",
   "name": "python",
   "nbconvert_exporter": "python",
   "pygments_lexer": "ipython3",
   "version": "3.9.17"
  },
  "orig_nbformat": 4
 },
 "nbformat": 4,
 "nbformat_minor": 2
}
