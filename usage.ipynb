{
 "cells": [
  {
   "cell_type": "code",
   "execution_count": 2,
   "metadata": {},
   "outputs": [],
   "source": [
    "from torchvision import transforms\n",
    "import onnxruntime\n",
    "import numpy as np \n",
    "from PIL import Image"
   ]
  },
  {
   "cell_type": "code",
   "execution_count": 3,
   "metadata": {},
   "outputs": [],
   "source": [
    "sz = 420\n",
    "model = onnxruntime.InferenceSession(\"model/angle_mobileNet_20.onnx\")\n",
    "transforms =  transforms.Compose([\n",
    "        transforms.Resize((sz , sz)),\n",
    "        transforms.ToTensor(),\n",
    "        transforms.Normalize([0.485, 0.456, 0.406],[0.229, 0.224, 0.225])\n",
    "    ])"
   ]
  },
  {
   "cell_type": "code",
   "execution_count": 5,
   "metadata": {},
   "outputs": [
    {
     "data": {
      "text/plain": [
       "-0.4932291"
      ]
     },
     "execution_count": 5,
     "metadata": {},
     "output_type": "execute_result"
    }
   ],
   "source": [
    "img = Image.open(\"1.jpg\").convert('RGB')\n",
    "img = transforms(img)\n",
    "img = np.array(img)\n",
    "\n",
    "img = np.expand_dims(img, 0).astype(np.float32)\n",
    "    \n",
    "ort_outs = model.run(None, {\"input\":img})\n",
    "\n",
    "ort_outs[0][0][0]"
   ]
  },
  {
   "cell_type": "markdown",
   "metadata": {},
   "source": [
    "## test class"
   ]
  },
  {
   "cell_type": "code",
   "execution_count": 8,
   "metadata": {},
   "outputs": [
    {
     "name": "stdout",
     "output_type": "stream",
     "text": [
      "1\n",
      "2\n",
      "3\n",
      "4\n",
      "5\n",
      "6\n",
      "7\n",
      "8\n",
      "9\n",
      "10\n",
      "11\n",
      ">>>>>  ('stab run method Exception', Exception('centerizer -> detect_main_car No detection'))\n",
      "12\n",
      "13\n",
      "14\n",
      "15\n",
      "16\n",
      "17\n",
      "18\n",
      "19\n",
      "20\n",
      "21\n",
      "22\n",
      "23\n",
      "24\n",
      "25\n",
      "26\n",
      "27\n",
      "28\n",
      "29\n",
      "30\n",
      "31\n",
      "32\n",
      "33\n",
      "34\n",
      "35\n",
      "36\n",
      "37\n",
      "38\n",
      "39\n",
      "40\n",
      "41\n",
      "42\n",
      "43\n",
      "44\n",
      "45\n",
      "46\n",
      "47\n",
      "48\n",
      "49\n",
      "50\n",
      "51\n",
      "52\n",
      "53\n",
      "54\n",
      "55\n",
      "56\n",
      "57\n",
      "58\n",
      "59\n",
      "60\n",
      "61\n",
      "62\n",
      "63\n",
      "64\n",
      ">>>>>  ('stab run method Exception', Exception('estimate angle -> detect_main_car No detection'))\n",
      "65\n"
     ]
    }
   ],
   "source": [
    "import glob\n",
    "from natsort import natsorted\n",
    "from deployment.Stabilizer import Stabilizer\n",
    "\n",
    "stab = Stabilizer(\"model/yolov8s_6_2023.pt\" , \"model/angle_mobileNet_20.onnx\")\n",
    "imgs = glob.glob(\"blender_generated/*\")\n",
    "\n",
    "c = 0\n",
    "for im in natsorted(imgs):\n",
    "    c+=1\n",
    "    try:\n",
    "        stab.run(im ,\"deployment-outputs/blender_stab/\"+str( c)+\".jpg\")\n",
    "    except Exception as e :\n",
    "        print(\">>>>> \",e)\n",
    "\n",
    "    print(c)"
   ]
  },
  {
   "cell_type": "markdown",
   "metadata": {},
   "source": [
    "## trad stab"
   ]
  }
 ],
 "metadata": {
  "kernelspec": {
   "display_name": "gpu",
   "language": "python",
   "name": "python3"
  },
  "language_info": {
   "codemirror_mode": {
    "name": "ipython",
    "version": 3
   },
   "file_extension": ".py",
   "mimetype": "text/x-python",
   "name": "python",
   "nbconvert_exporter": "python",
   "pygments_lexer": "ipython3",
   "version": "3.9.17"
  },
  "orig_nbformat": 4
 },
 "nbformat": 4,
 "nbformat_minor": 2
}
