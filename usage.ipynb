{
 "cells": [
  {
   "attachments": {},
   "cell_type": "markdown",
   "metadata": {},
   "source": [
    "check border of image"
   ]
  },
  {
   "cell_type": "code",
   "execution_count": null,
   "metadata": {},
   "outputs": [],
   "source": [
    "import matplotlib.pyplot as plt\n",
    "import cv2 \n",
    "\n",
    "\n",
    "def rotate_image( img, angle = 3):\n",
    "    # get cv2 image\n",
    "    # this function get an image and angle then rotate image by this angle\n",
    "    height, width = img.shape[:2]\n",
    "    rotation_matrix = cv2.getRotationMatrix2D((width/2, height/2), angle, 1)\n",
    "\n",
    "    if img.shape[2] == 4:\n",
    "        borderValue = (255,255,255,0)\n",
    "    else:\n",
    "        borderValue = (255,255,255)\n",
    "\n",
    "    rotated_image = cv2.warpAffine(img, rotation_matrix, (width, height) , borderValue = borderValue , flags=cv2.INTER_NEAREST)\n",
    "    return rotated_image\n",
    "\n",
    "\n",
    "\n",
    "\n",
    "im = cv2.imread(\"_______INS/206_lpr2/02.png\" , cv2.IMREAD_UNCHANGED)\n",
    "im = rotate_image( im, angle = 0)\n",
    "cv2.imwrite(\"UUUUU1.png\" , im)"
   ]
  },
  {
   "cell_type": "code",
   "execution_count": null,
   "metadata": {},
   "outputs": [],
   "source": [
    "import matplotlib.pyplot as plt\n",
    "import cv2 \n",
    "\n",
    "im = cv2.imread(\"_______INS/206_lpr2/02.png\" , cv2.IMREAD_UNCHANGED)\n",
    "print(im.shape)\n",
    "im3 = im[:,:,3]\n",
    "plt.imshow(im3 , cmap=\"gray\")"
   ]
  },
  {
   "cell_type": "code",
   "execution_count": null,
   "metadata": {},
   "outputs": [],
   "source": [
    "import numpy as np\n",
    "# Create the output directory if it doesn't exist\n",
    "\n",
    "# Threshold the image for 255 value\n",
    "_, im1 = cv2.threshold(im[:,:,2], 254.5, 255, cv2.THRESH_BINARY)\n",
    "\n",
    "im1 = 255 - im1\n",
    "# Continue with the existing code\n",
    "\n",
    "# Initialize frame count\n",
    "\n",
    "plt.imshow(np.abs(im3 - im1) , cmap=\"gray\")\n",
    "cv2.imwrite(\"UUUUU1.jpg\" , np.abs(im3 - im1))"
   ]
  },
  {
   "cell_type": "code",
   "execution_count": null,
   "metadata": {},
   "outputs": [],
   "source": [
    "\n",
    "import os\n",
    "import cv2\n",
    "\n",
    "def extract_frames(video_path, output_directory):\n",
    "    # Open the video file\n",
    "    video = cv2.VideoCapture(video_path)\n",
    "    \n",
    "    # Create the output directory if it doesn't exist\n",
    "    os.makedirs(output_directory, exist_ok=True)\n",
    "    \n",
    "    # Initialize frame count\n",
    "    frame_count = 0\n",
    "    \n",
    "    while True:\n",
    "        # Read the next frame from the video\n",
    "        ret, frame = video.read()\n",
    "        \n",
    "        # If the frame was not successfully read, then we have reached the end of the video\n",
    "        if not ret:\n",
    "            break\n",
    "        \n",
    "        # Save the frame as an image file\n",
    "        output_path = os.path.join(output_directory, f\"frame_{frame_count}.jpg\")\n",
    "        cv2.imwrite(output_path, frame)\n",
    "        \n",
    "        # Increment the frame count\n",
    "        frame_count += 1\n",
    "    \n",
    "    # Release the video file\n",
    "    video.release()\n",
    "\n",
    "video_path = \"runs/segment/predict/frames.avi\"\n",
    "output_directory = \"_______INS/benz/frames\"\n",
    "extract_frames(video_path, output_directory)\n",
    "\n",
    "\n",
    "\n"
   ]
  },
  {
   "cell_type": "code",
   "execution_count": null,
   "metadata": {},
   "outputs": [],
   "source": [
    "from ultralytics import YOLO\n",
    "\n",
    "\n",
    "model_yolo =  YOLO(\"model/yolov8m-seg.pt\")\n",
    "\n",
    "\n",
    "results = model_yolo.predict(\"_______INS/benz/frames.mp4\" , verbose=False  , conf=.8 , save=True)\n",
    "# results = results[0].cpu().numpy().boxes.data"
   ]
  },
  {
   "cell_type": "code",
   "execution_count": null,
   "metadata": {},
   "outputs": [],
   "source": [
    "tuple([3]*8)"
   ]
  },
  {
   "cell_type": "code",
   "execution_count": null,
   "metadata": {},
   "outputs": [],
   "source": []
  },
  {
   "cell_type": "code",
   "execution_count": null,
   "metadata": {},
   "outputs": [],
   "source": [
    "from torchvision import transforms\n",
    "import onnxruntime\n",
    "import numpy as np \n",
    "from PIL import Image"
   ]
  },
  {
   "cell_type": "code",
   "execution_count": null,
   "metadata": {},
   "outputs": [],
   "source": [
    "sz = 420\n",
    "model = onnxruntime.InferenceSession(\"model/angle_mobileNet_20.onnx\")\n",
    "transforms =  transforms.Compose([\n",
    "        transforms.Resize((sz , sz)),\n",
    "        transforms.ToTensor(),\n",
    "        transforms.Normalize([0.485, 0.456, 0.406],[0.229, 0.224, 0.225])\n",
    "    ])"
   ]
  },
  {
   "cell_type": "code",
   "execution_count": null,
   "metadata": {},
   "outputs": [],
   "source": [
    "img = Image.open(\"1.jpg\").convert('RGB')\n",
    "img = transforms(img)\n",
    "img = np.array(img)\n",
    "\n",
    "img = np.expand_dims(img, 0).astype(np.float32)\n",
    "    \n",
    "ort_outs = model.run(None, {\"input\":img})\n",
    "\n",
    "ort_outs[0][0][0]"
   ]
  },
  {
   "cell_type": "markdown",
   "metadata": {},
   "source": [
    "## test class"
   ]
  },
  {
   "cell_type": "code",
   "execution_count": null,
   "metadata": {},
   "outputs": [],
   "source": [
    "yaws = [5.406633534606321,\n",
    "            5.590338529970505,\n",
    "            12.182080640071197,\n",
    "            16.15813691045502,\n",
    "            20.14327984037418,\n",
    "            23.774019329639238,\n",
    "            33.29706128823568,\n",
    "            36.37212788812101,\n",
    "            40.1918854962939,\n",
    "            41.83998092735989,\n",
    "            48.8734557413525,\n",
    "            51.13125904080177,\n",
    "            57.79421033583744,\n",
    "            64.29341168463613,\n",
    "            68.3364080029332,\n",
    "            72.49161987466061,\n",
    "            78.86931093372648,\n",
    "            81.07471148141403,\n",
    "            82.61348409832758,\n",
    "            89.16176216365994,\n",
    "            93.64899762477127,\n",
    "            102.19716982306224,\n",
    "            102.90754867871647,\n",
    "            121.75498490832227,\n",
    "            144.6829434902486,\n",
    "            181.86918907553834,\n",
    "            186.29712224604415,\n",
    "            194.07089747213985,\n",
    "            202.46724523158852,\n",
    "            207.24222953821587,\n",
    "            213.26732758098174,\n",
    "            222.4024876362589,\n",
    "            225.16921257810827,\n",
    "            227.79644653468196,\n",
    "            229.23571383161476,\n",
    "            239.77542312717077,\n",
    "            249.99002379058635,\n",
    "            260.44713559446467,\n",
    "            269.7128889075372,\n",
    "            273.63391772180415,\n",
    "            281.6471141631142,\n",
    "            288.40992737418003,\n",
    "            292.6005622613679,\n",
    "            303.68146554603953,\n",
    "            305.83839642833993,\n",
    "            314.07914331235867,\n",
    "            326.9728272392335,\n",
    "            331.66377375156696,\n",
    "            333.1400753226155,\n",
    "            343.63269094531313,\n",
    "            346.3733521202134,\n",
    "            356.74773300316787]\n",
    "\n",
    "len(yaws)"
   ]
  },
  {
   "cell_type": "code",
   "execution_count": 1,
   "metadata": {},
   "outputs": [
    {
     "name": "stdout",
     "output_type": "stream",
     "text": [
      "1\n",
      "2\n"
     ]
    }
   ],
   "source": [
    "import glob\n",
    "from natsort import natsorted\n",
    "from deployment.Stabilizer import Stabilizer\n",
    "\n",
    "stab = Stabilizer(\"model/rtdetr-l.pt\" , \"model/angle_mobileNet_20.onnx\")\n",
    "imgs = glob.glob(\"_______INS/_BUG/fsel/*\")\n",
    "\n",
    "c = 0\n",
    "for im in natsorted(imgs):\n",
    "    c+=1\n",
    "    try:\n",
    "        stab.run(im ,\"_______OUTS/disjoint_version/_BUG/1/\"+str( c)+\".json\"  ,  height_fraction=0.57 , mode = 0)\n",
    "    except Exception as e :\n",
    "        print(\">>>>> \",e)\n",
    "\n",
    "    print(c)"
   ]
  },
  {
   "cell_type": "code",
   "execution_count": 2,
   "metadata": {},
   "outputs": [
    {
     "name": "stdout",
     "output_type": "stream",
     "text": [
      "1\n",
      "2\n"
     ]
    }
   ],
   "source": [
    "import glob\n",
    "from natsort import natsorted\n",
    "from deployment.Stabilizer2 import Stabilizer2\n",
    "import cv2\n",
    "\n",
    "stab2 = Stabilizer2()\n",
    "imgs = glob.glob(\"_______INS/_BUG/bgr/*\")\n",
    "\n",
    "c = 0\n",
    "for im in natsorted(imgs):\n",
    "    c+=1\n",
    "    # if c == 12:\n",
    "    #     continue\n",
    "    try:\n",
    "        stab2.run(im ,\"_______OUTS/disjoint_version/_BUG/1/\"+str( c)+\".json\" , \"_______OUTS/disjoint_version/_BUG/2/\"+str( c)+\".png\")    # (self , img_address , json_address ,  output_address )\n",
    "    except Exception as e :\n",
    "        print(\">>>>> \",e)\n",
    "\n",
    "    print(c)"
   ]
  },
  {
   "attachments": {},
   "cell_type": "markdown",
   "metadata": {},
   "source": [
    "## one image "
   ]
  },
  {
   "cell_type": "code",
   "execution_count": null,
   "metadata": {},
   "outputs": [],
   "source": [
    "\n",
    "from deployment.Stabilizer import Stabilizer\n",
    "\n",
    "stab = Stabilizer(\"model/yolov8l_9_2023.pt\" , \"model/angle_mobileNet_20.onnx\")\n",
    "\n",
    "stab.run(\"lpr2.png\" ,\"XX.json\")\n"
   ]
  },
  {
   "cell_type": "code",
   "execution_count": null,
   "metadata": {},
   "outputs": [],
   "source": [
    "2160 * .9"
   ]
  },
  {
   "cell_type": "code",
   "execution_count": null,
   "metadata": {},
   "outputs": [],
   "source": [
    "import glob\n",
    "from natsort import natsorted\n",
    "from deployment.Stabilizer2 import Stabilizer2\n",
    "import cv2\n",
    "\n",
    "stab2 = Stabilizer2()\n",
    "\n",
    "\n",
    "stab2.run(\"lpr2.png\" ,\"XX.json\" , \"QQ.png\")    # (self , img_address , json_address ,  output_address )\n",
    "  "
   ]
  },
  {
   "attachments": {},
   "cell_type": "markdown",
   "metadata": {},
   "source": [
    "## to video"
   ]
  },
  {
   "cell_type": "code",
   "execution_count": null,
   "metadata": {},
   "outputs": [],
   "source": [
    "from natsort import natsorted\n",
    "\n",
    "\n",
    "# write python code to make video from directory of images\n",
    "import cv2\n",
    "import os\n",
    "\n",
    "def make_video_from_images(image_directory = \"_______OUTS/disjoint_version/navid3_fsel/2\", output_video_path=\"_______OUTS/disjoint_version/navid3_fsel/2/navid.mp4\", fps=8):\n",
    "    image_files = natsorted(os.listdir(image_directory))\n",
    "    frame = cv2.imread(os.path.join(image_directory, image_files[0]))\n",
    "    height, width, _ = frame.shape\n",
    "    fourcc = cv2.VideoWriter_fourcc(*\"mp4v\")\n",
    "    video_writer = cv2.VideoWriter(output_video_path, fourcc, fps, (width, height))\n",
    "\n",
    "    for image_file in image_files:\n",
    "        image_path = os.path.join(image_directory, image_file)\n",
    "        frame = cv2.imread(image_path)\n",
    "        video_writer.write(frame)\n",
    "\n",
    "    video_writer.release()\n",
    "\n",
    "# test frameSelection\n",
    "\n",
    "\n",
    "make_video_from_images()"
   ]
  },
  {
   "cell_type": "code",
   "execution_count": null,
   "metadata": {},
   "outputs": [],
   "source": [
    "def reflect_image_in_white_region(img):\n",
    "    height, width = img.shape[:2]\n",
    "    border_size = 50\n",
    "    new_height, new_width = height + 2*border_size, width + 2*border_size\n",
    "    new_img = np.ones((new_height, new_width, img.shape[2]), np.uint8) * 255\n",
    "    if img.shape[2] == 4:\n",
    "        new_img[:,:,3] = 0\n",
    "    new_img[border_size:height+border_size, border_size:width+border_size] = img\n",
    "    new_img = cv2.copyMakeBorder(new_img, border_size, border_size, border_size, border_size, cv2.BORDER_REFLECT)\n",
    "    return new_img\n"
   ]
  },
  {
   "attachments": {},
   "cell_type": "markdown",
   "metadata": {},
   "source": [
    "# Social"
   ]
  },
  {
   "cell_type": "code",
   "execution_count": null,
   "metadata": {},
   "outputs": [],
   "source": [
    "import cv2\n",
    "img = cv2.imread(\"_SOCIAL/inp/11.jpg\")\n",
    "\n",
    "aa = stab.centerizer(img)\n",
    "# aa = stab.zoomIN_zoomOut(img , 0.27)\n",
    "cv2.imwrite(\"_SOCIAL/inp/111.jpg\" , aa)"
   ]
  },
  {
   "attachments": {},
   "cell_type": "markdown",
   "metadata": {},
   "source": [
    "## test-rotate:"
   ]
  },
  {
   "cell_type": "code",
   "execution_count": null,
   "metadata": {},
   "outputs": [],
   "source": [
    "import cv2\n",
    "\n",
    "def rotate_image( img, angle = 0):\n",
    "    # get cv2 image\n",
    "    # this function get an image and angle then rotate image by this angle\n",
    "    height, width = img.shape[:2]\n",
    "    rotation_matrix = cv2.getRotationMatrix2D((width/2, height/2), angle, 1)\n",
    "    rotated_image = cv2.warpAffine(img, rotation_matrix, (width, height))\n",
    "    return rotated_image"
   ]
  },
  {
   "cell_type": "code",
   "execution_count": null,
   "metadata": {},
   "outputs": [],
   "source": [
    "im1 = cv2.imread(\"blender_generated/Ford Mustang 2023 Black-0001.png\")\n",
    "im1 = rotate_image(im1 , 10)\n",
    "cv2.imwrite(\"kkk.jpg\" , im1)"
   ]
  },
  {
   "cell_type": "code",
   "execution_count": null,
   "metadata": {},
   "outputs": [],
   "source": [
    "import numpy as np\n",
    "import matplotlib.pyplot as plt\n",
    "\n",
    "height = 2300\n",
    "\n",
    "scale = 0.05\n",
    "\n",
    "x = np.linspace(0, 360, 360)\n",
    "y =  ((np.sin((x - 45) / 180 * 2 * np.pi) ) + 1)/2  *  (height * scale)\n",
    "\n",
    "plt.plot(x, y)\n",
    "plt.show()\n",
    "\n"
   ]
  },
  {
   "cell_type": "code",
   "execution_count": null,
   "metadata": {},
   "outputs": [],
   "source": [
    "len(y)"
   ]
  },
  {
   "cell_type": "code",
   "execution_count": null,
   "metadata": {},
   "outputs": [],
   "source": [
    "\n",
    "\n",
    "import numpy as np\n",
    "\n",
    "\n",
    "\n",
    "\n",
    "\n",
    "\n",
    "from PIL import Image\n",
    "img2 = Image.open('X_all.png')\n",
    "img1 = np.array(img2)\n",
    "\n",
    "img1[:,:,:3] = 255\n",
    "img1[:,:,3] = 0\n",
    "img1 = Image.fromarray(img1)\n",
    "\n",
    "img2 = img2.resize((img1.width, img1.height))\n",
    "img1.paste(img2, (0, 800), img2)\n",
    "img1.save('RRRRRRR.png')"
   ]
  },
  {
   "cell_type": "code",
   "execution_count": null,
   "metadata": {},
   "outputs": [],
   "source": [
    "  new_img = np.ones((new_height, new_width, img.shape[2]), np.uint8) * 255\n",
    "        if img.shape[2] == 4:\n",
    "            new_img[:,:,3] = 0"
   ]
  }
 ],
 "metadata": {
  "kernelspec": {
   "display_name": "gpu",
   "language": "python",
   "name": "python3"
  },
  "language_info": {
   "codemirror_mode": {
    "name": "ipython",
    "version": 3
   },
   "file_extension": ".py",
   "mimetype": "text/x-python",
   "name": "python",
   "nbconvert_exporter": "python",
   "pygments_lexer": "ipython3",
   "version": "3.9.17"
  },
  "orig_nbformat": 4
 },
 "nbformat": 4,
 "nbformat_minor": 2
}
