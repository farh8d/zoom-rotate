{
 "cells": [
  {
   "attachments": {},
   "cell_type": "markdown",
   "metadata": {},
   "source": [
    "check border of image"
   ]
  },
  {
   "cell_type": "code",
   "execution_count": null,
   "metadata": {},
   "outputs": [],
   "source": [
    "import matplotlib.pyplot as plt\n",
    "import cv2 \n",
    "\n",
    "\n",
    "def rotate_image( img, angle = 3):\n",
    "    # get cv2 image\n",
    "    # this function get an image and angle then rotate image by this angle\n",
    "    height, width = img.shape[:2]\n",
    "    rotation_matrix = cv2.getRotationMatrix2D((width/2, height/2), angle, 1)\n",
    "\n",
    "    if img.shape[2] == 4:\n",
    "        borderValue = (255,255,255,0)\n",
    "    else:\n",
    "        borderValue = (255,255,255)\n",
    "\n",
    "    rotated_image = cv2.warpAffine(img, rotation_matrix, (width, height) , borderValue = borderValue , flags=cv2.INTER_NEAREST)\n",
    "    return rotated_image\n",
    "\n",
    "\n",
    "\n",
    "\n",
    "im = cv2.imread(\"_______INS/206_lpr2/02.png\" , cv2.IMREAD_UNCHANGED)\n",
    "im = rotate_image( im, angle = 0)\n",
    "cv2.imwrite(\"UUUUU1.png\" , im)"
   ]
  },
  {
   "cell_type": "code",
   "execution_count": null,
   "metadata": {},
   "outputs": [],
   "source": [
    "import matplotlib.pyplot as plt\n",
    "import cv2 \n",
    "\n",
    "im = cv2.imread(\"_______INS/206_lpr2/02.png\" , cv2.IMREAD_UNCHANGED)\n",
    "print(im.shape)\n",
    "im3 = im[:,:,3]\n",
    "plt.imshow(im3 , cmap=\"gray\")"
   ]
  },
  {
   "cell_type": "code",
   "execution_count": null,
   "metadata": {},
   "outputs": [],
   "source": [
    "import numpy as np\n",
    "# Create the output directory if it doesn't exist\n",
    "\n",
    "# Threshold the image for 255 value\n",
    "_, im1 = cv2.threshold(im[:,:,2], 254.5, 255, cv2.THRESH_BINARY)\n",
    "\n",
    "im1 = 255 - im1\n",
    "# Continue with the existing code\n",
    "\n",
    "# Initialize frame count\n",
    "\n",
    "plt.imshow(np.abs(im3 - im1) , cmap=\"gray\")\n",
    "cv2.imwrite(\"UUUUU1.jpg\" , np.abs(im3 - im1))"
   ]
  },
  {
   "cell_type": "code",
   "execution_count": null,
   "metadata": {},
   "outputs": [],
   "source": [
    "\n",
    "import os\n",
    "import cv2\n",
    "\n",
    "def extract_frames(video_path, output_directory):\n",
    "    # Open the video file\n",
    "    video = cv2.VideoCapture(video_path)\n",
    "    \n",
    "    # Create the output directory if it doesn't exist\n",
    "    os.makedirs(output_directory, exist_ok=True)\n",
    "    \n",
    "    # Initialize frame count\n",
    "    frame_count = 0\n",
    "    \n",
    "    while True:\n",
    "        # Read the next frame from the video\n",
    "        ret, frame = video.read()\n",
    "        \n",
    "        # If the frame was not successfully read, then we have reached the end of the video\n",
    "        if not ret:\n",
    "            break\n",
    "        \n",
    "        # Save the frame as an image file\n",
    "        output_path = os.path.join(output_directory, f\"frame_{frame_count}.jpg\")\n",
    "        cv2.imwrite(output_path, frame)\n",
    "        \n",
    "        # Increment the frame count\n",
    "        frame_count += 1\n",
    "    \n",
    "    # Release the video file\n",
    "    video.release()\n",
    "\n",
    "video_path = \"runs/segment/predict/frames.avi\"\n",
    "output_directory = \"_______INS/benz/frames\"\n",
    "extract_frames(video_path, output_directory)\n",
    "\n",
    "\n",
    "\n"
   ]
  },
  {
   "cell_type": "code",
   "execution_count": null,
   "metadata": {},
   "outputs": [],
   "source": [
    "from ultralytics import YOLO\n",
    "\n",
    "\n",
    "model_yolo =  YOLO(\"model/yolov8m-seg.pt\")\n",
    "\n",
    "\n",
    "results = model_yolo.predict(\"_______INS/benz/frames.mp4\" , verbose=False  , conf=.8 , save=True)\n",
    "# results = results[0].cpu().numpy().boxes.data"
   ]
  },
  {
   "cell_type": "code",
   "execution_count": null,
   "metadata": {},
   "outputs": [],
   "source": [
    "tuple([3]*8)"
   ]
  },
  {
   "cell_type": "code",
   "execution_count": null,
   "metadata": {},
   "outputs": [],
   "source": []
  },
  {
   "cell_type": "code",
   "execution_count": null,
   "metadata": {},
   "outputs": [],
   "source": [
    "from torchvision import transforms\n",
    "import onnxruntime\n",
    "import numpy as np \n",
    "from PIL import Image"
   ]
  },
  {
   "cell_type": "code",
   "execution_count": null,
   "metadata": {},
   "outputs": [],
   "source": [
    "sz = 420\n",
    "model = onnxruntime.InferenceSession(\"model/angle_mobileNet_20.onnx\")\n",
    "transforms =  transforms.Compose([\n",
    "        transforms.Resize((sz , sz)),\n",
    "        transforms.ToTensor(),\n",
    "        transforms.Normalize([0.485, 0.456, 0.406],[0.229, 0.224, 0.225])\n",
    "    ])"
   ]
  },
  {
   "cell_type": "code",
   "execution_count": null,
   "metadata": {},
   "outputs": [],
   "source": [
    "img = Image.open(\"1.jpg\").convert('RGB')\n",
    "img = transforms(img)\n",
    "img = np.array(img)\n",
    "\n",
    "img = np.expand_dims(img, 0).astype(np.float32)\n",
    "    \n",
    "ort_outs = model.run(None, {\"input\":img})\n",
    "\n",
    "ort_outs[0][0][0]"
   ]
  },
  {
   "cell_type": "markdown",
   "metadata": {},
   "source": [
    "## test class"
   ]
  },
  {
   "cell_type": "code",
   "execution_count": 1,
   "metadata": {},
   "outputs": [
    {
     "data": {
      "text/plain": [
       "40"
      ]
     },
     "execution_count": 1,
     "metadata": {},
     "output_type": "execute_result"
    }
   ],
   "source": [
    "import json \n",
    "\n",
    "\n",
    "\n",
    "with open(f\"_______INS/__MODE0/benz/358956718154_gyro.json\") as f:\n",
    "    data = json.load(f)\n",
    "\n",
    "\n",
    "x_list = [v[\"x\"] for k, v in data.items()]\n",
    "len(x_list)"
   ]
  },
  {
   "cell_type": "code",
   "execution_count": 3,
   "metadata": {},
   "outputs": [
    {
     "name": "stdout",
     "output_type": "stream",
     "text": [
      "1\n",
      "2\n",
      "3\n",
      "4\n",
      "5\n",
      "6\n",
      "7\n",
      "8\n",
      "9\n",
      "10\n",
      "11\n",
      "12\n",
      "13\n",
      "14\n",
      "15\n",
      "16\n",
      "17\n",
      "18\n",
      "19\n",
      "20\n",
      "21\n",
      "22\n",
      "23\n",
      "24\n",
      "25\n",
      "26\n",
      "27\n",
      "28\n",
      "29\n",
      "30\n",
      "31\n",
      "32\n",
      "33\n",
      "34\n",
      "35\n",
      "36\n",
      "37\n",
      "38\n",
      "39\n",
      "40\n"
     ]
    }
   ],
   "source": [
    "import glob\n",
    "from natsort import natsorted\n",
    "from deployment.Stabilizer import Stabilizer\n",
    "\n",
    "folder = \"benz\"\n",
    "stab = Stabilizer(\"model/rtdetr-l.pt\" , \"model/angle_mobileNet_20.onnx\")\n",
    "imgs = glob.glob(f\"_______INS/__MODE0/{folder}/fsel/*\")\n",
    "\n",
    "c = 0\n",
    "for im in natsorted(imgs):\n",
    "    c+=1\n",
    "    try:\n",
    "        stab.run(im ,f\"_______OUTS/disjoint_version/__MODE0/{folder}/1/\"+str( c)+\".json\"  ,  height_fraction=0.487 , mode = 0)\n",
    "    except Exception as e :\n",
    "        print(\">>>>> \",e)\n",
    "\n",
    "    print(c)"
   ]
  },
  {
   "cell_type": "code",
   "execution_count": 4,
   "metadata": {},
   "outputs": [
    {
     "name": "stdout",
     "output_type": "stream",
     "text": [
      "1\n",
      "2\n",
      "3\n",
      "4\n",
      "5\n",
      "6\n",
      "7\n",
      "8\n",
      "9\n",
      "10\n",
      "11\n",
      "12\n",
      "13\n",
      "14\n",
      "15\n",
      "16\n",
      "17\n",
      "18\n",
      "19\n",
      "20\n",
      "21\n",
      "22\n",
      "23\n",
      "24\n",
      "25\n",
      "26\n",
      "27\n",
      "28\n",
      "29\n",
      "30\n",
      "31\n",
      "32\n",
      "33\n",
      "34\n",
      "35\n",
      "36\n",
      "37\n",
      "38\n",
      "39\n",
      "40\n"
     ]
    }
   ],
   "source": [
    "import glob\n",
    "from natsort import natsorted\n",
    "from deployment.Stabilizer2 import Stabilizer2\n",
    "import cv2\n",
    "\n",
    "folder = \"benz\"\n",
    "\n",
    "\n",
    "stab2 = Stabilizer2()\n",
    "imgs = glob.glob(f\"_______INS/__MODE0/{folder}/bgr/*\")\n",
    "\n",
    "c = 0\n",
    "for im in natsorted(imgs):\n",
    "        c+=1\n",
    "    # if c == 12:\n",
    "    #     continue\n",
    "    # try:\n",
    "        stab2.run(im ,f\"_______OUTS/disjoint_version/__MODE0/{folder}/1/\"+str( c)+\".json\" , f\"_______OUTS/disjoint_version/__MODE0/{folder}/2/\"+str( c)+\".png\" )    # (self , img_address , json_address ,  output_address )\n",
    "    # except Exception as e :\n",
    "        # print(\">>>>> \",e)\n",
    "\n",
    "        print(c)"
   ]
  },
  {
   "attachments": {},
   "cell_type": "markdown",
   "metadata": {},
   "source": [
    "## one image "
   ]
  },
  {
   "cell_type": "code",
   "execution_count": null,
   "metadata": {},
   "outputs": [],
   "source": [
    "\n",
    "from deployment.Stabilizer import Stabilizer\n",
    "\n",
    "stab = Stabilizer(\"model/yolov8l_9_2023.pt\" , \"model/angle_mobileNet_20.onnx\")\n",
    "\n",
    "stab.run(\"lpr2.png\" ,\"XX.json\")\n"
   ]
  },
  {
   "cell_type": "code",
   "execution_count": null,
   "metadata": {},
   "outputs": [],
   "source": [
    "2160 * .9"
   ]
  },
  {
   "cell_type": "code",
   "execution_count": null,
   "metadata": {},
   "outputs": [],
   "source": [
    "import glob\n",
    "from natsort import natsorted\n",
    "from deployment.Stabilizer2 import Stabilizer2\n",
    "import cv2\n",
    "\n",
    "stab2 = Stabilizer2()\n",
    "\n",
    "\n",
    "stab2.run(\"lpr2.png\" ,\"XX.json\" , \"QQ.png\")    # (self , img_address , json_address ,  output_address )\n",
    "  "
   ]
  },
  {
   "attachments": {},
   "cell_type": "markdown",
   "metadata": {},
   "source": [
    "## to video"
   ]
  },
  {
   "cell_type": "code",
   "execution_count": null,
   "metadata": {},
   "outputs": [],
   "source": [
    "from natsort import natsorted\n",
    "\n",
    "\n",
    "# write python code to make video from directory of images\n",
    "import cv2\n",
    "import os\n",
    "\n",
    "def make_video_from_images(image_directory = \"_______OUTS/disjoint_version/navid3_fsel/2\", output_video_path=\"_______OUTS/disjoint_version/navid3_fsel/2/navid.mp4\", fps=8):\n",
    "    image_files = natsorted(os.listdir(image_directory))\n",
    "    frame = cv2.imread(os.path.join(image_directory, image_files[0]))\n",
    "    height, width, _ = frame.shape\n",
    "    fourcc = cv2.VideoWriter_fourcc(*\"mp4v\")\n",
    "    video_writer = cv2.VideoWriter(output_video_path, fourcc, fps, (width, height))\n",
    "\n",
    "    for image_file in image_files:\n",
    "        image_path = os.path.join(image_directory, image_file)\n",
    "        frame = cv2.imread(image_path)\n",
    "        video_writer.write(frame)\n",
    "\n",
    "    video_writer.release()\n",
    "\n",
    "# test frameSelection\n",
    "\n",
    "\n",
    "make_video_from_images()"
   ]
  },
  {
   "cell_type": "code",
   "execution_count": null,
   "metadata": {},
   "outputs": [],
   "source": [
    "def reflect_image_in_white_region(img):\n",
    "    height, width = img.shape[:2]\n",
    "    border_size = 50\n",
    "    new_height, new_width = height + 2*border_size, width + 2*border_size\n",
    "    new_img = np.ones((new_height, new_width, img.shape[2]), np.uint8) * 255\n",
    "    if img.shape[2] == 4:\n",
    "        new_img[:,:,3] = 0\n",
    "    new_img[border_size:height+border_size, border_size:width+border_size] = img\n",
    "    new_img = cv2.copyMakeBorder(new_img, border_size, border_size, border_size, border_size, cv2.BORDER_REFLECT)\n",
    "    return new_img\n"
   ]
  },
  {
   "cell_type": "code",
   "execution_count": 1,
   "metadata": {},
   "outputs": [
    {
     "data": {
      "image/png": "[encoded data removed]",
      "text/plain": [
       "<Figure size 640x480 with 1 Axes>"
      ]
     },
     "metadata": {},
     "output_type": "display_data"
    }
   ],
   "source": [
    "import numpy as np\n",
    "x = np.linspace(0, 360, 360)\n",
    "a0 , a1 , a2 , a3 = 70 , 110 , 250 , 290\n",
    "y =  -((np.sin((x - 45) / 180 * 2 * np.pi) ) )*0.9 + 1.77\n",
    "y[:] = 1\n",
    "\n",
    "y[a0:int((a1+a0)/2)] = np.linspace(1, 0.95, int((a1-a0)/2) )\n",
    "y[int((a1+a0)/2):a1] = np.linspace(0.95 , 1 , int((a1-a0)/2) )\n",
    "y[a2:int((a3+a2)/2)] = np.linspace(1, 0.95, int((a3-a2)/2) )\n",
    "y[int((a3+a2)/2):a3] = np.linspace(0.95 , 1 , int((a3-a2)/2) )\n",
    "y+= 0.05\n",
    "import matplotlib.pyplot as plt\n",
    "plt.scatter(x, y)\n",
    "\n",
    "plt.show()\n"
   ]
  },
  {
   "cell_type": "code",
   "execution_count": 11,
   "metadata": {},
   "outputs": [
    {
     "data": {
      "text/plain": [
       "array([          1,           1,           1,           1,           1,           1,           1,           1,           1,           1,           1,           1,           1,           1,           1,           1,           1,           1,           1,           1,           1,           1,           1,           1,\n",
       "                 1,           1,           1,           1,           1,           1,           1,           1,           1,           1,           1,           1,           1,           1,           1,           1,           1,           1,           1,           1,           1,           1,           1,           1,\n",
       "                 1,           1,           1,           1,           1,           1,           1,           1,           1,           1,           1,           1,           1,           1,           1,           1,           1,           1,           1,           1,           1,           1,           1,           1,\n",
       "                 1,           1,           1,           1,           1,           1,           1,           1,           1,           1,           1,           1,           1,           1,           1,           1,           1,           1,           1,           1,           1,           1,           1,           1,\n",
       "                 1,           1,           1,           1,           1,           1,           1,           1,           1,           1,           1,           1,           1,           1,           1,           1,           1,           1,           1,           1,           1,           1,           1,           1,\n",
       "                 1,           1,           1,           1,           1,           1,           1,           1,           1,           1,           1,           1,           1,           1,           1,           1,           1,           1,           1,           1,           1,           1,           1,           1,\n",
       "                 1,           1,           1,           1,           1,           1,           1,           1,           1,           1,           1,           1,           1,           1,           1,           1,           1,           1,           1,           1,           1,           1,           1,           1,\n",
       "                 1,           1,           1,           1,           1,           1,           1,           1,           1,           1,           1,           1,           1,           1,           1,           1,           1,           1,           1,           1,           1,           1,           1,           1,\n",
       "                 1,           1,           1,           1,           1,           1,           1,           1,           1,           1,           1,           1,           1,           1,           1,           1,           1,           1,           1,           1,           1,           1,           1,           1,\n",
       "                 1,           1,           1,           1,           1,           1,           1,           1,           1,           1,           1,           1,           1,           1,           1,           1,           1,           1,           1,           1,           1,           1,           1,           1,\n",
       "                 1,           1,           1,           1,           1,           1,           1,           1,           1,           1,           1,           1,           1,           1,           1,           1,           1,           1,           1,           1,           1,           1,           1,           1,\n",
       "                 1,           1,           1,           1,           1,           1,           1,           1,           1,           1,           1,           1,           1,           1,           1,           1,           1,           1,           1,           1,           1,           1,           1,           1,\n",
       "                 1,           1,           1,           1,           1,           1,           1,           1,           1,           1,           1,           1,           1,           1,           1,           1,           1,           1,           1,           1,           1,           1,           1,           1,\n",
       "                 1,           1,           1,           1,           1,           1,           1,           1,           1,           1,           1,           1,           1,           1,           1,           1,           1,           1,           1,           1,           1,           1,           1,           1,\n",
       "                 1,           1,           1,           1,           1,           1,           1,           1,           1,           1,           1,           1,           1,           1,           1,           1,           1,           1,           1,           1,           1,           1,           1,           1])"
      ]
     },
     "execution_count": 11,
     "metadata": {},
     "output_type": "execute_result"
    }
   ],
   "source": [
    "y"
   ]
  }
 ],
 "metadata": {
  "kernelspec": {
   "display_name": "gpu",
   "language": "python",
   "name": "python3"
  },
  "language_info": {
   "codemirror_mode": {
    "name": "ipython",
    "version": 3
   },
   "file_extension": ".py",
   "mimetype": "text/x-python",
   "name": "python",
   "nbconvert_exporter": "python",
   "pygments_lexer": "ipython3",
   "version": "3.10.13"
  },
  "orig_nbformat": 4
 },
 "nbformat": 4,
 "nbformat_minor": 2
}
