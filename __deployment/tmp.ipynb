{
 "cells": [
  {
   "cell_type": "code",
   "execution_count": 3,
   "metadata": {},
   "outputs": [],
   "source": [
    "from torchvision import transforms\n",
    "import onnxruntime\n",
    "import numpy as np \n",
    "from PIL import Image"
   ]
  },
  {
   "cell_type": "code",
   "execution_count": 7,
   "metadata": {},
   "outputs": [],
   "source": [
    "sz = 299\n",
    "model = onnxruntime.InferenceSession(\"model/angle_mobileNet_20.onnx\")\n",
    "transforms =  transforms.Compose([\n",
    "        transforms.Resize((sz , sz)),\n",
    "        transforms.ToTensor(),\n",
    "        transforms.Normalize([0.485, 0.456, 0.406], [0.229, 0.224, 0.225])\n",
    "    ])"
   ]
  },
  {
   "cell_type": "code",
   "execution_count": 13,
   "metadata": {},
   "outputs": [
    {
     "data": {
      "text/plain": [
       "0.082428336"
      ]
     },
     "execution_count": 13,
     "metadata": {},
     "output_type": "execute_result"
    }
   ],
   "source": [
    "img = Image.open(\"1.jpg\").convert('RGB')\n",
    "img = transforms(img)\n",
    "img = np.array(img)\n",
    "\n",
    "img = np.expand_dims(img, 0).astype(np.float32)\n",
    "    \n",
    "ort_outs = model.run(None, {\"input\":img})\n",
    "\n",
    "ort_outs[0][0][0]"
   ]
  },
  {
   "cell_type": "markdown",
   "metadata": {},
   "source": [
    "## test class"
   ]
  },
  {
   "cell_type": "code",
   "execution_count": 2,
   "metadata": {},
   "outputs": [
    {
     "name": "stdout",
     "output_type": "stream",
     "text": [
      "2\n",
      "3\n",
      "4\n",
      "5\n",
      "6\n",
      "7\n",
      "8\n",
      "9\n",
      "10\n",
      "11\n",
      "12\n",
      "13\n",
      "14\n",
      "15\n",
      "16\n",
      "17\n",
      "18\n",
      "19\n",
      "20\n",
      "21\n",
      "22\n",
      "23\n",
      "24\n",
      "25\n",
      "26\n",
      "27\n",
      "28\n",
      "29\n",
      "30\n",
      "31\n",
      "32\n",
      "33\n",
      "34\n",
      "35\n",
      "36\n",
      "37\n",
      "38\n",
      "39\n",
      "40\n",
      "41\n",
      "42\n",
      "43\n",
      "44\n",
      "45\n",
      "46\n",
      "47\n",
      "48\n",
      "49\n",
      "50\n",
      "51\n"
     ]
    }
   ],
   "source": [
    "import glob\n",
    "from natsort import natsorted\n",
    "from Stabilizer import Stabilizer\n",
    "\n",
    "stab = Stabilizer(\"model/yolov8s_6_2023.pt\" , \"model/angle_inception_16.onnx\")\n",
    "imgs = glob.glob(\"octo_org/*\")\n",
    "\n",
    "c = 1 \n",
    "for im in natsorted(imgs):\n",
    "    stab.run(im ,\"out(inception-center-zoom)/\"+str( c)+\".jpg\")\n",
    "    c+=1\n",
    "    print(c)"
   ]
  },
  {
   "cell_type": "markdown",
   "metadata": {},
   "source": [
    "## trad stab"
   ]
  },
  {
   "cell_type": "code",
   "execution_count": null,
   "metadata": {},
   "outputs": [],
   "source": [
    "import cv2 , os\n",
    "from natsort import natsorted\n",
    "import numpy as np\n",
    "import matplotlib.pyplot as plt\n",
    "from stabilize import *\n",
    "\n",
    "name = \"result\"\n",
    "\n",
    "imgs = []\n",
    "\n",
    "directory = \"OUT1/octo-sampling-model_out\"\n",
    "\n",
    "# Read all frame filenames from the directory\n",
    "sorted_items = os.listdir(directory)\n",
    "sorted_items = natsorted(sorted_items)\n",
    "for filename in sorted_items:\n",
    "    if filename.endswith(\".png\") or filename.endswith(\".jpg\"):\n",
    "        frame_path = os.path.join(directory, filename)\n",
    "        frame = cv2.imread(frame_path)\n",
    "        \n",
    "        if frame is not None:\n",
    "            imgs.append(frame)\n",
    "\n",
    "\n",
    "\n",
    "ws = create_warp_stack(imgs)\n",
    "\n",
    "\n",
    "\n",
    "#calculate the smoothed trajectory and output the zeroed images\n",
    "smoothed_warp, smoothed_trajectory, original_trajectory = moving_average(ws, sigma_mat= np.array([[5,5, 5],[5 , 5 , 5]]))\n",
    "new_imgs = apply_warping_fullview(images=imgs, warp_stack=ws-smoothed_warp, PATH='./out/')\n",
    "\n",
    "\n",
    "\n",
    "\n",
    "    # Define the video codec, output format, and frame rate\n",
    "fourcc = cv2.VideoWriter_fourcc(*\"mp4v\")\n",
    "video = cv2.VideoWriter(\"octo_combined_sampling10xx.mp4\", fourcc, 8, (new_imgs[0].shape[1], new_imgs[0].shape[0]))\n",
    "\n",
    "# Write frames to the video\n",
    "for frame in new_imgs:\n",
    "   video.write(frame)\n",
    "\n",
    "# Release the video writer and destroy any remaining windows\n",
    "video.release()\n",
    "cv2.destroyAllWindows()\n",
    "\n",
    "#plot the original and smoothed trajectory\n",
    "f, (a0, a1) = plt.subplots(2,1, gridspec_kw = {'height_ratios':[1, 1]})\n",
    "\n",
    "i,j = 0,2\n",
    "a0.scatter(np.arange(len(original_trajectory)), np.array(original_trajectory)[:,i,j],s=2 , label='Original')\n",
    "a0.plot(np.arange(len(original_trajectory)), np.array(original_trajectory)[:,i,j])\n",
    "a0.scatter(np.arange(len(smoothed_trajectory)), np.array(smoothed_trajectory)[:,i,j], s=2 , label='Smoothed')\n",
    "a0.plot(np.arange(len(smoothed_trajectory)), np.array(smoothed_trajectory)[:,i,j])\n",
    "a0.legend()\n",
    "a0.set_ylabel('X trajectory')\n",
    "a0.xaxis.set_ticklabels([])\n",
    "\n",
    "i,j = 0,1\n",
    "a1.scatter(np.arange(len(original_trajectory)), np.array(original_trajectory)[:,i,j],s=2, label='Original')\n",
    "a1.plot(np.arange(len(original_trajectory)), np.array(original_trajectory)[:,i,j])\n",
    "a1.scatter(np.arange(len(smoothed_trajectory)), np.array(smoothed_trajectory)[:,i,j],s=2, label='Smoothed')\n",
    "a1.plot(np.arange(len(smoothed_trajectory)), np.array(smoothed_trajectory)[:,i,j])\n",
    "a1.legend()\n",
    "a1.set_xlabel('Frame')\n",
    "a1.set_ylabel('Sin(Theta) trajectory')\n",
    "plt.savefig(name+'_smoothed.png')\n",
    "\n",
    "#create a images that show both the trajectory and video frames\n",
    "filenames = imshow_with_trajectory(images=new_imgs, warp_stack=ws-smoothed_warp, PATH='ou'+'/', ij=(0,2))"
   ]
  }
 ],
 "metadata": {
  "kernelspec": {
   "display_name": "gpu",
   "language": "python",
   "name": "python3"
  },
  "language_info": {
   "codemirror_mode": {
    "name": "ipython",
    "version": 3
   },
   "file_extension": ".py",
   "mimetype": "text/x-python",
   "name": "python",
   "nbconvert_exporter": "python",
   "pygments_lexer": "ipython3",
   "version": "3.9.17"
  },
  "orig_nbformat": 4
 },
 "nbformat": 4,
 "nbformat_minor": 2
}
