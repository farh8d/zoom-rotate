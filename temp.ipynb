{
 "cells": [
  {
   "cell_type": "code",
   "execution_count": 2,
   "metadata": {},
   "outputs": [],
   "source": [
    "import cv2\n",
    "import PIL"
   ]
  },
  {
   "cell_type": "code",
   "execution_count": 9,
   "metadata": {},
   "outputs": [
    {
     "name": "stdout",
     "output_type": "stream",
     "text": [
      "0\n",
      "100\n",
      "EEEEE  137\n"
     ]
    }
   ],
   "source": [
    "cap = cv2.VideoCapture('org_bmw.mp4')\n",
    "\n",
    "frame_count = int(cap.get(cv2.CAP_PROP_FRAME_COUNT))\n",
    "fps    = cap.get(cv2.CAP_PROP_FPS)\n",
    "\n",
    "\n",
    "frame_count = int(cap.get(cv2.CAP_PROP_FRAME_COUNT))\n",
    "fps    = cap.get(cv2.CAP_PROP_FPS)\n",
    "\n",
    "\n",
    "c= 0\n",
    "while True:\n",
    "    ret, frame = cap.read()\n",
    "    if not ret:\n",
    "        break\n",
    "\n",
    "\n",
    "\n",
    "\n",
    "    if c==5:\n",
    "        cv2.imwrite( \"img_from_compressed_video/video_5.jpg\" , frame )\n",
    "    if c==55:\n",
    "        cv2.imwrite( \"img_from_compressed_video/video_55.jpg\" , frame)\n",
    "    if c==105:\n",
    "        cv2.imwrite( \"img_from_compressed_video/video_105.jpg\" , frame)\n",
    "\n",
    "    if (c% 100 ==0):\n",
    "        print(c)\n",
    "\n",
    "    c+=1\n",
    "    \n",
    "cap.release()\n",
    "\n",
    "print(\"EEEEE \" , frame_count)"
   ]
  },
  {
   "cell_type": "code",
   "execution_count": 27,
   "metadata": {},
   "outputs": [
    {
     "name": "stdout",
     "output_type": "stream",
     "text": [
      "(1080, 1920, 3)\n",
      "PSNR: 36.91\n",
      "SSIM: 0.9722\n"
     ]
    }
   ],
   "source": [
    "import numpy as np\n",
    "from skimage import img_as_float\n",
    "from skimage.metrics import peak_signal_noise_ratio, structural_similarity\n",
    "\n",
    "def calculate_psnr(img1, img2):\n",
    "    # Convert images to float\n",
    "   \n",
    "    img1 = img_as_float(img1)\n",
    "    img2 = img_as_float(img2)\n",
    "    # Calculate PSNR\n",
    "    psnr = peak_signal_noise_ratio(img1, img2)\n",
    "    return psnr\n",
    "\n",
    "def calculate_ssim(img1, img2):\n",
    "    # Convert images to float\n",
    "    img1 = img_as_float(img1)\n",
    "    img2 = img_as_float(img2)\n",
    "\n",
    "    # Calculate SSIM\n",
    "    ssim = structural_similarity(img1[:,:,1], img2[:,:,1] , data_range=img1.max() - img1.min())\n",
    "    return ssim\n",
    "\n",
    "# Example usage\n",
    "image1 = cv2.imread(\"img_from_compressed_video/video_105.jpg\")\n",
    "image2 = cv2.imread(\"img_from_compressed_video/image_105.png\")\n",
    "\n",
    "print(image1.shape)\n",
    "psnr = calculate_psnr(image1, image2)\n",
    "ssim = calculate_ssim(image1, image2)\n",
    "\n",
    "print(f\"PSNR: {psnr:.2f}\")\n",
    "print(f\"SSIM: {ssim:.4f}\")"
   ]
  },
  {
   "cell_type": "code",
   "execution_count": 25,
   "metadata": {},
   "outputs": [
    {
     "ename": "AttributeError",
     "evalue": "type object 'cv2.VideoWriter' has no attribute 'QUALITY'",
     "output_type": "error",
     "traceback": [
      "\u001b[1;31m---------------------------------------------------------------------------\u001b[0m",
      "\u001b[1;31mAttributeError\u001b[0m                            Traceback (most recent call last)",
      "Cell \u001b[1;32mIn[25], line 42\u001b[0m\n\u001b[0;32m     39\u001b[0m output_video_name \u001b[39m=\u001b[39m \u001b[39m\"\u001b[39m\u001b[39morg_bmw0.mp4\u001b[39m\u001b[39m\"\u001b[39m\n\u001b[0;32m     41\u001b[0m \u001b[39m# Call the function to create the video\u001b[39;00m\n\u001b[1;32m---> 42\u001b[0m create_video_from_frames(directory_path, output_video_name)\n",
      "Cell \u001b[1;32mIn[25], line 24\u001b[0m, in \u001b[0;36mcreate_video_from_frames\u001b[1;34m(directory, video_name)\u001b[0m\n\u001b[0;32m     22\u001b[0m fourcc \u001b[39m=\u001b[39m cv2\u001b[39m.\u001b[39mVideoWriter_fourcc(\u001b[39m*\u001b[39m\u001b[39m\"\u001b[39m\u001b[39mmp4v\u001b[39m\u001b[39m\"\u001b[39m)\n\u001b[0;32m     23\u001b[0m video \u001b[39m=\u001b[39m cv2\u001b[39m.\u001b[39mVideoWriter(video_name, fourcc, \u001b[39m50\u001b[39m, (frames[\u001b[39m0\u001b[39m]\u001b[39m.\u001b[39mshape[\u001b[39m1\u001b[39m], frames[\u001b[39m0\u001b[39m]\u001b[39m.\u001b[39mshape[\u001b[39m0\u001b[39m]))\n\u001b[1;32m---> 24\u001b[0m video\u001b[39m.\u001b[39mset(cv2\u001b[39m.\u001b[39;49mVideoWriter\u001b[39m.\u001b[39;49mQUALITY, \u001b[39m98\u001b[39m)  \u001b[39m# Set the quality to 80 (range: 0-100)\u001b[39;00m\n\u001b[0;32m     25\u001b[0m video\u001b[39m.\u001b[39mset(cv2\u001b[39m.\u001b[39mVideoWriter\u001b[39m.\u001b[39mBITRATE, \u001b[39m5000000\u001b[39m)\n\u001b[0;32m     27\u001b[0m \u001b[39m# Write frames to the video\u001b[39;00m\n",
      "\u001b[1;31mAttributeError\u001b[0m: type object 'cv2.VideoWriter' has no attribute 'QUALITY'"
     ]
    }
   ],
   "source": [
    "import cv2\n",
    "import os\n",
    "from natsort import natsorted\n",
    "\n",
    "\n",
    "def create_video_from_frames(directory, video_name):\n",
    "    frames = []\n",
    "    \n",
    "    # Read all frame filenames from the directory\n",
    "    sorted_items = os.listdir(directory)\n",
    "    sorted_items = natsorted(sorted_items)\n",
    "\n",
    "    for filename in sorted_items:\n",
    "        if filename.endswith(\".png\") or filename.endswith(\".jpg\"):\n",
    "            frame_path = os.path.join(directory, filename)\n",
    "            frame = cv2.imread(frame_path)\n",
    "            \n",
    "            if frame is not None:\n",
    "                frames.append(frame)\n",
    "    \n",
    "    # Define the video codec, output format, and frame rate\n",
    "    fourcc = cv2.VideoWriter_fourcc(*\"mp4v\")\n",
    "    video = cv2.VideoWriter(video_name, fourcc, 50, (frames[0].shape[1], frames[0].shape[0]))\n",
    "    video.set(cv2.VideoWriter.QUALITY, 98)  # Set the quality to 80 (range: 0-100)\n",
    "    video.set(cv2.VideoWriter.BITRATE, 5000000)\n",
    "    \n",
    "    # Write frames to the video\n",
    "    for frame in frames:\n",
    "        video.write(frame)\n",
    "    \n",
    "    # Release the video writer and destroy any remaining windows\n",
    "    video.release()\n",
    "    cv2.destroyAllWindows()\n",
    "\n",
    "# Provide the directory path where the frames are stored\n",
    "directory_path = \"IMG_4384__8483\"\n",
    "\n",
    "# Provide the desired output video name\n",
    "output_video_name = \"org_bmw0.mp4\"\n",
    "\n",
    "# Call the function to create the video\n",
    "create_video_from_frames(directory_path, output_video_name)"
   ]
  },
  {
   "cell_type": "code",
   "execution_count": null,
   "metadata": {},
   "outputs": [],
   "source": []
  },
  {
   "cell_type": "markdown",
   "metadata": {},
   "source": [
    "## stab"
   ]
  },
  {
   "cell_type": "code",
   "execution_count": 33,
   "metadata": {},
   "outputs": [
    {
     "data": {
      "text/plain": [
       "21"
      ]
     },
     "execution_count": 33,
     "metadata": {},
     "output_type": "execute_result"
    }
   ],
   "source": [
    "import cv2\n",
    "import numpy as np\n",
    "import matplotlib.pyplot as plt\n",
    "from stabilize import *\n",
    "\n",
    "#load the images and create a plot of the trajectory\n",
    "imgs, name = load_images('octo_sampling_org.mp4', OUT_PATH='ou/'), 'result1'\n",
    "\n",
    "ws = create_warp_stack(imgs)\n",
    "\n",
    "i,j = 0,2\n",
    "plt.scatter(np.arange(len(ws)), ws[:,i,j], label='X Velocity')\n",
    "plt.plot(np.arange(len(ws)), ws[:,i,j])\n",
    "plt.scatter(np.arange(len(ws)), np.cumsum(ws[:,i,j], axis=0), label='X Trajectory')\n",
    "plt.plot(np.arange(len(ws)), np.cumsum(ws[:,i,j], axis=0))\n",
    "plt.legend()\n",
    "plt.xlabel('Frame')\n",
    "plt.savefig(name+'_trajectory.png')\n",
    "\n",
    "#calculate the smoothed trajectory and output the zeroed images\n",
    "smoothed_warp, smoothed_trajectory, original_trajectory = moving_average(ws, sigma_mat= np.array([[1000,15, 10],[15,1000, 10]]))\n",
    "new_imgs = apply_warping_fullview(images=imgs, warp_stack=ws-smoothed_warp, PATH='./out/')\n",
    "\n",
    "#plot the original and smoothed trajectory\n",
    "f, (a0, a1) = plt.subplots(2,1, gridspec_kw = {'height_ratios':[1, 1]})\n",
    "\n",
    "i,j = 0,2\n",
    "a0.scatter(np.arange(len(original_trajectory)), np.array(original_trajectory)[:,i,j], label='Original')\n",
    "a0.plot(np.arange(len(original_trajectory)), np.array(original_trajectory)[:,i,j])\n",
    "a0.scatter(np.arange(len(smoothed_trajectory)), np.array(smoothed_trajectory)[:,i,j], label='Smoothed')\n",
    "a0.plot(np.arange(len(smoothed_trajectory)), np.array(smoothed_trajectory)[:,i,j])\n",
    "a0.legend()\n",
    "a0.set_ylabel('X trajectory')\n",
    "a0.xaxis.set_ticklabels([])\n",
    "\n",
    "i,j = 0,1\n",
    "a1.scatter(np.arange(len(original_trajectory)), np.array(original_trajectory)[:,i,j], label='Original')\n",
    "a1.plot(np.arange(len(original_trajectory)), np.array(original_trajectory)[:,i,j])\n",
    "a1.scatter(np.arange(len(smoothed_trajectory)), np.array(smoothed_trajectory)[:,i,j], label='Smoothed')\n",
    "a1.plot(np.arange(len(smoothed_trajectory)), np.array(smoothed_trajectory)[:,i,j])\n",
    "a1.legend()\n",
    "a1.set_xlabel('Frame')\n",
    "a1.set_ylabel('Sin(Theta) trajectory')\n",
    "plt.savefig(name+'_smoothed.png')\n",
    "\n",
    "#create a images that show both the trajectory and video frames\n",
    "filenames = imshow_with_trajectory(images=new_imgs, warp_stack=ws-smoothed_warp, PATH='ou'+'/', ij=(0,2))\n",
    "\n",
    "#create gif\n",
    "create_gif(filenames, './'+name+'.gif')"
   ]
  },
  {
   "cell_type": "markdown",
   "metadata": {},
   "source": [
    "# modified"
   ]
  },
  {
   "cell_type": "code",
   "execution_count": 2,
   "metadata": {},
   "outputs": [
    {
     "name": "stdout",
     "output_type": "stream",
     "text": [
      "bottom 22\n",
      "top 48\n",
      "right 22\n",
      "left 5\n"
     ]
    },
    {
     "data": {
      "image/png": "[encoded data removed]",
      "text/plain": [
       "<Figure size 640x480 with 2 Axes>"
      ]
     },
     "metadata": {},
     "output_type": "display_data"
    }
   ],
   "source": [
    "import cv2 , os\n",
    "from natsort import natsorted\n",
    "import numpy as np\n",
    "import matplotlib.pyplot as plt\n",
    "from stabilize import *\n",
    "\n",
    "name = \"result\"\n",
    "\n",
    "imgs = []\n",
    "\n",
    "directory = \"OUT1/octo-sampling-model_out\"\n",
    "\n",
    "# Read all frame filenames from the directory\n",
    "sorted_items = os.listdir(directory)\n",
    "sorted_items = natsorted(sorted_items)\n",
    "for filename in sorted_items:\n",
    "    if filename.endswith(\".png\") or filename.endswith(\".jpg\"):\n",
    "        frame_path = os.path.join(directory, filename)\n",
    "        frame = cv2.imread(frame_path)\n",
    "        \n",
    "        if frame is not None:\n",
    "            imgs.append(frame)\n",
    "\n",
    "\n",
    "\n",
    "ws = create_warp_stack(imgs)\n",
    "\n",
    "\n",
    "\n",
    "#calculate the smoothed trajectory and output the zeroed images\n",
    "smoothed_warp, smoothed_trajectory, original_trajectory = moving_average(ws, sigma_mat= np.array([[5,5, 5],[5 , 5 , 5]]))\n",
    "new_imgs = apply_warping_fullview(images=imgs, warp_stack=ws-smoothed_warp, PATH='./out/')\n",
    "\n",
    "\n",
    "\n",
    "\n",
    "    # Define the video codec, output format, and frame rate\n",
    "fourcc = cv2.VideoWriter_fourcc(*\"mp4v\")\n",
    "video = cv2.VideoWriter(\"octo_combined_sampling10xx.mp4\", fourcc, 8, (new_imgs[0].shape[1], new_imgs[0].shape[0]))\n",
    "\n",
    "# Write frames to the video\n",
    "for frame in new_imgs:\n",
    "   video.write(frame)\n",
    "\n",
    "# Release the video writer and destroy any remaining windows\n",
    "video.release()\n",
    "cv2.destroyAllWindows()\n",
    "\n",
    "#plot the original and smoothed trajectory\n",
    "f, (a0, a1) = plt.subplots(2,1, gridspec_kw = {'height_ratios':[1, 1]})\n",
    "\n",
    "i,j = 0,2\n",
    "a0.scatter(np.arange(len(original_trajectory)), np.array(original_trajectory)[:,i,j],s=2 , label='Original')\n",
    "a0.plot(np.arange(len(original_trajectory)), np.array(original_trajectory)[:,i,j])\n",
    "a0.scatter(np.arange(len(smoothed_trajectory)), np.array(smoothed_trajectory)[:,i,j], s=2 , label='Smoothed')\n",
    "a0.plot(np.arange(len(smoothed_trajectory)), np.array(smoothed_trajectory)[:,i,j])\n",
    "a0.legend()\n",
    "a0.set_ylabel('X trajectory')\n",
    "a0.xaxis.set_ticklabels([])\n",
    "\n",
    "i,j = 0,1\n",
    "a1.scatter(np.arange(len(original_trajectory)), np.array(original_trajectory)[:,i,j],s=2, label='Original')\n",
    "a1.plot(np.arange(len(original_trajectory)), np.array(original_trajectory)[:,i,j])\n",
    "a1.scatter(np.arange(len(smoothed_trajectory)), np.array(smoothed_trajectory)[:,i,j],s=2, label='Smoothed')\n",
    "a1.plot(np.arange(len(smoothed_trajectory)), np.array(smoothed_trajectory)[:,i,j])\n",
    "a1.legend()\n",
    "a1.set_xlabel('Frame')\n",
    "a1.set_ylabel('Sin(Theta) trajectory')\n",
    "plt.savefig(name+'_smoothed.png')\n",
    "\n",
    "#create a images that show both the trajectory and video frames\n",
    "filenames = imshow_with_trajectory(images=new_imgs, warp_stack=ws-smoothed_warp, PATH='ou'+'/', ij=(0,2))\n",
    "\n",
    "#create gif\n",
    "# create_gif(filenames, './'+name+'.gif')"
   ]
  },
  {
   "cell_type": "code",
   "execution_count": 10,
   "metadata": {},
   "outputs": [
    {
     "data": {
      "text/plain": [
       "(540, 960, 3)"
      ]
     },
     "execution_count": 10,
     "metadata": {},
     "output_type": "execute_result"
    }
   ],
   "source": [
    "len(imgs)\n",
    "imgs[0].shape"
   ]
  },
  {
   "cell_type": "code",
   "execution_count": 14,
   "metadata": {},
   "outputs": [
    {
     "name": "stdout",
     "output_type": "stream",
     "text": [
      "HHHHHHHHHHHHHH 50\n"
     ]
    }
   ],
   "source": [
    "fourcc = cv2.VideoWriter_fourcc(*\"mp4v\")\n",
    "video = cv2.VideoWriter(\"oooZZ2.mp4\", fourcc, 8, (imgs[0].shape[1], imgs[0].shape[0]))\n",
    "\n",
    "print(\"HHHHHHHHHHHHHH\",len(imgs))\n",
    "# Write frames to the video\n",
    "for frame in imgs:\n",
    "   video.write(frame)\n",
    "\n",
    "# Release the video writer and destroy any remaining windows\n",
    "video.release()\n",
    "cv2.destroyAllWindows()"
   ]
  },
  {
   "cell_type": "markdown",
   "metadata": {},
   "source": [
    "# optical flow"
   ]
  },
  {
   "cell_type": "code",
   "execution_count": null,
   "metadata": {},
   "outputs": [],
   "source": []
  }
 ],
 "metadata": {
  "kernelspec": {
   "display_name": "gputest",
   "language": "python",
   "name": "python3"
  },
  "language_info": {
   "codemirror_mode": {
    "name": "ipython",
    "version": 3
   },
   "file_extension": ".py",
   "mimetype": "text/x-python",
   "name": "python",
   "nbconvert_exporter": "python",
   "pygments_lexer": "ipython3",
   "version": "3.10.11"
  },
  "orig_nbformat": 4
 },
 "nbformat": 4,
 "nbformat_minor": 2
}
