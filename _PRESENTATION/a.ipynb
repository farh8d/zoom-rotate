{
 "cells": [
  {
   "cell_type": "code",
   "execution_count": 8,
   "metadata": {},
   "outputs": [
    {
     "data": {
      "text/plain": [
       "True"
      ]
     },
     "execution_count": 8,
     "metadata": {},
     "output_type": "execute_result"
    }
   ],
   "source": [
    "\n",
    "import cv2\n",
    "\n",
    "img = cv2.imread(\"1.png\")\n",
    "  \n",
    "height, width = img.shape[:2]\n",
    "rotation_matrix = cv2.getRotationMatrix2D((width/2, height/2), -15, 1)\n",
    "rotated_image = cv2.warpAffine(img, rotation_matrix, (width, height))\n",
    "cv2.imwrite(\"-15.jpg\" , rotated_image)"
   ]
  }
 ],
 "metadata": {
  "kernelspec": {
   "display_name": "yaw",
   "language": "python",
   "name": "python3"
  },
  "language_info": {
   "codemirror_mode": {
    "name": "ipython",
    "version": 3
   },
   "file_extension": ".py",
   "mimetype": "text/x-python",
   "name": "python",
   "nbconvert_exporter": "python",
   "pygments_lexer": "ipython3",
   "version": "3.10.11"
  },
  "orig_nbformat": 4
 },
 "nbformat": 4,
 "nbformat_minor": 2
}
