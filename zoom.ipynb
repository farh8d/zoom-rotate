{
 "cells": [
  {
   "cell_type": "code",
   "execution_count": 54,
   "metadata": {},
   "outputs": [],
   "source": [
    "import torch\n",
    "import pandas as pd\n",
    "import numpy as np\n",
    "import cv2\n",
    "\n",
    "class Zoom_and_rotate:\n",
    "    def __init__(self):\n",
    "        self.model_yolov5 = torch.hub.load('ultralytics/yolov5', 'yolov5s', pretrained=True)\n",
    "       \n",
    "\n",
    "\n",
    "    def detect_main_car(self , img):\n",
    "        results = self.model_yolov5(img)\n",
    "        cars0 = results.pandas().xyxy[0][results.pandas().xyxy[0]['name'] == 'car']\n",
    "        vans = results.pandas().xyxy[0][results.pandas().xyxy[0]['name'] == 'van']\n",
    "        trucks = results.pandas().xyxy[0][results.pandas().xyxy[0]['name'] == 'truck']\n",
    "        cars = pd.concat([cars0, vans , trucks], axis=0)\n",
    "        cars.reset_index(drop=True, inplace=True)\n",
    "        if len(cars) == 0:\n",
    "            return None\n",
    "        biggest_car = cars.iloc[(cars['xmax'] - cars['xmin']).argmax()]\n",
    "\n",
    "        if biggest_car['name'] == 'truck' or  biggest_car['name'] == 'van':\n",
    "            center_bb_x1 = img.shape[1] * 0.25\n",
    "            center_bb_x2 = img.shape[1] * 0.75\n",
    "            center_bb_y1 = img.shape[0] * 0.25\n",
    "            center_bb_y2 = img.shape[0] * 0.75\n",
    "\n",
    "            car_center_x = (biggest_car['xmax'] - biggest_car['xmin']) / 2\n",
    "            car_center_y = (biggest_car['ymax'] - biggest_car['ymin']) / 2\n",
    "\n",
    "            if (center_bb_x1 <= car_center_x <= center_bb_x2)  and (center_bb_y1 <= car_center_y <= center_bb_y2) :\n",
    "                biggest_car = biggest_car\n",
    "            else:\n",
    "                cars = cars0\n",
    "                if len(cars) == 0:\n",
    "                    return None\n",
    "                biggest_car = cars.iloc[(cars['xmax'] - cars['xmin']).argmax()]\n",
    "        return biggest_car\n",
    "    \n",
    "    def make_new_image(self , img , bb , expected_car_heigh):\n",
    "        new_width = img.shape[1] + 6000\n",
    "        new_height = img.shape[0] + 6000\n",
    "        new_img = np.zeros((new_height, new_width, 3), np.uint8)\n",
    "        new_img[3000:new_height-3000, 3000:new_width-3000] = img\n",
    "\n",
    "        current_height = bb['ymax'] - bb['ymin']\n",
    "        scale = current_height / expected_car_heigh\n",
    "        cut_size_y , cut_size_x =  scale * img.shape[0] , scale * img.shape[1]\n",
    "        car_center_x = int((bb['xmax'] + bb['xmin']) / 2) + 3000\n",
    "        car_center_y = int((bb['ymax'] + bb['ymin']) / 2) + 3000\n",
    "\n",
    "        cut_img = new_img[int(car_center_y - cut_size_y / 2):int(car_center_y + cut_size_y / 2) , int(car_center_x - cut_size_x / 2):int(car_center_x + cut_size_x / 2),:]\n",
    "        return   cv2.resize(cut_img, ( img.shape[1] , img.shape[0]), interpolation=cv2.INTER_LINEAR)\n",
    "\n",
    "\n",
    "\n",
    "\n",
    "    def  zoomIN_zoomOut(self , img , height_fraction = 0.4 ):\n",
    "        bb = self.detect_main_car(img)\n",
    "        h = bb['ymax'] - bb['ymin']\n",
    "        if (height_fraction - 0.01) * img.shape[0] < h < (height_fraction + 0.01) * img.shape[0]:\n",
    "            return img\n",
    "        return self.make_new_image(img, bb , int(height_fraction * img.shape[0]) )\n",
    "    \n",
    "    def rotate_image(self , img, angle):\n",
    "        height, width = img.shape[:2]\n",
    "        rotation_matrix = cv2.getRotationMatrix2D((width/2, height/2), angle, 1)\n",
    "        rotated_image = cv2.warpAffine(img, rotation_matrix, (width, height))\n",
    "        return rotated_image\n",
    "        \n",
    "\n",
    "\n"
   ]
  },
  {
   "cell_type": "code",
   "execution_count": 55,
   "metadata": {},
   "outputs": [],
   "source": [
    "import cv2\n",
    "\n",
    "im = cv2.imread(\"top.png\")"
   ]
  },
  {
   "cell_type": "code",
   "execution_count": 56,
   "metadata": {},
   "outputs": [
    {
     "name": "stderr",
     "output_type": "stream",
     "text": [
      "Using cache found in C:\\Users\\admin/.cache\\torch\\hub\\ultralytics_yolov5_master\n",
      "YOLOv5  2023-5-2 Python-3.10.11 torch-2.0.0 CUDA:0 (NVIDIA GeForce RTX 3090, 24575MiB)\n",
      "\n",
      "Fusing layers... \n",
      "YOLOv5s summary: 213 layers, 7225885 parameters, 0 gradients\n"
     ]
    },
    {
     "name": "stdout",
     "output_type": "stream",
     "text": [
      "\u001b[31m\u001b[1mrequirements:\u001b[0m C:\\Users\\admin\\.cache\\torch\\hub\\requirements.txt not found, check failed.\n"
     ]
    },
    {
     "name": "stderr",
     "output_type": "stream",
     "text": [
      "Adding AutoShape... \n"
     ]
    }
   ],
   "source": [
    "obj = Zoom_and_rotate()"
   ]
  },
  {
   "cell_type": "code",
   "execution_count": 57,
   "metadata": {},
   "outputs": [],
   "source": [
    "z = 0.05\n",
    "for i in range(20):\n",
    "    img2 = obj.zoomIN_zoomOut(im , z)\n",
    "    z += 0.02\n",
    "    cv2.imwrite(\"zoom\"+str(i)+\".png\" , img2)"
   ]
  },
  {
   "cell_type": "code",
   "execution_count": 64,
   "metadata": {},
   "outputs": [],
   "source": [
    "import glob\n",
    "i = 0 \n",
    "for im in glob.glob(\"IMG_4384__8483/*\"):\n",
    "    i+=1\n",
    "    img = cv2.imread(im)\n",
    "    img2 = obj.zoomIN_zoomOut(img , 0.45)\n",
    "    cv2.imwrite(\"Zoom/zoom_\"+im.split(\"\\\\\")[-1].split(\".\")[0].split(\"_\")[1]+\".png\" , img2)"
   ]
  },
  {
   "cell_type": "code",
   "execution_count": 77,
   "metadata": {},
   "outputs": [],
   "source": [
    "aa = obj.rotate_image(cv2.imread(\"IMG_4384__8483/image_50.png\") ,8 )"
   ]
  },
  {
   "cell_type": "code",
   "execution_count": 78,
   "metadata": {},
   "outputs": [
    {
     "data": {
      "text/plain": [
       "True"
      ]
     },
     "execution_count": 78,
     "metadata": {},
     "output_type": "execute_result"
    }
   ],
   "source": [
    "cv2.imwrite(\"rotate/8.png\" , aa)"
   ]
  },
  {
   "cell_type": "code",
   "execution_count": null,
   "metadata": {},
   "outputs": [],
   "source": []
  }
 ],
 "metadata": {
  "kernelspec": {
   "display_name": "gputest",
   "language": "python",
   "name": "python3"
  },
  "language_info": {
   "codemirror_mode": {
    "name": "ipython",
    "version": 3
   },
   "file_extension": ".py",
   "mimetype": "text/x-python",
   "name": "python",
   "nbconvert_exporter": "python",
   "pygments_lexer": "ipython3",
   "version": "3.10.11"
  },
  "orig_nbformat": 4
 },
 "nbformat": 4,
 "nbformat_minor": 2
}
